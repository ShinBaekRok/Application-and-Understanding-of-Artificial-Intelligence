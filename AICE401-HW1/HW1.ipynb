{
 "cells": [
  {
   "cell_type": "markdown",
   "metadata": {
    "nbgrader": {
     "grade": false,
     "grade_id": "intro_1",
     "locked": false,
     "solution": false
    }
   },
   "source": [
    "# Assignment 1: Markov Decision Processes\n",
    "\n",
    "## Due Date: October 15th (Fri), 11:59 pm.\n",
    "\n",
    "\n",
    "## Homework Instructions\n",
    "- All your answers should be written in this notebook. \n",
    "- You shouldn't need to write or modify any other files.\n",
    "- Look for four instances between ``BEGIN YOUR CODE`` and ``END YOUR CODE``--those are the only parts of the code you need to write. To grade your homework, we will check whether the printouts immediately following your code match up with the results we got. The portions used for grading are highlighted in yellow. (However, note that the yellow highlighting does not show up when github renders this file.)\n",
    "\n",
    "To submit your homework, upload a PDF version of this file (To make the pdf, do `File - Print Preview`)\n",
    "\n",
    "--------------------------"
   ]
  },
  {
   "cell_type": "markdown",
   "metadata": {},
   "source": [
    "### Score Breakdown\n",
    "\n",
    "Question | Points\n",
    "--- | ---\n",
    "Question 1 | 6\n",
    "Question 2 | 4\n",
    "Question 3a | 6\n",
    "Question 3b | 4\n",
    "Total | 20"
   ]
  },
  {
   "cell_type": "markdown",
   "metadata": {
    "nbgrader": {
     "grade": false,
     "grade_id": "intro_2",
     "locked": false,
     "solution": false
    }
   },
   "source": [
    "<br/><br/><br/>\n",
    "<hr style=\"border: 5px solid #990000;\" />\n",
    "<hr style=\"border: 1px solid #dbbcac;\" />\n",
    "\n",
    "## Introduction\n",
    "\n",
    "This assignment will review the two classic methods for solving Markov Decision Processes (MDPs) with finite state and action spaces.\n",
    "We will implement value iteration (VI) and policy iteration (PI) for a finite MDP, both of which find the optimal policy in a finite number of iterations.\n",
    "\n",
    "The experiments here will use the Frozen Lake environment, a simple gridworld MDP that is taken from `gym` and slightly modified for this assignment. In this MDP, the agent must navigate from the start state to the goal state on a 4x4 grid, with stochastic transitions."
   ]
  },
  {
   "cell_type": "code",
   "execution_count": 1,
   "metadata": {
    "ExecuteTime": {
     "end_time": "2021-09-28T13:58:13.266608Z",
     "start_time": "2021-09-28T13:58:13.172201Z"
    }
   },
   "outputs": [
    {
     "name": "stdout",
     "output_type": "stream",
     "text": [
      "\n",
      "    Winter is here. You and your friends were tossing around a frisbee at the park\n",
      "    when you made a wild throw that left the frisbee out in the middle of the lake.\n",
      "    The water is mostly frozen, but there are a few holes where the ice has melted.\n",
      "    If you step into one of those holes, you'll fall into the freezing water.\n",
      "    At this time, there's an international frisbee shortage, so it's absolutely imperative that\n",
      "    you navigate across the lake and retrieve the disc.\n",
      "    However, the ice is slippery, so you won't always move in the direction you intend.\n",
      "    The surface is described using a grid like the following\n",
      "\n",
      "        SFFF\n",
      "        FHFH\n",
      "        FFFH\n",
      "        HFFG\n",
      "\n",
      "    S : starting point, safe\n",
      "    F : frozen surface, safe\n",
      "    H : hole, fall to your doom\n",
      "    G : goal, where the frisbee is located\n",
      "\n",
      "    The episode ends when you reach the goal or fall in a hole.\n",
      "    You receive a reward of 1 if you reach the goal, and zero otherwise.\n",
      "\n",
      "    \n"
     ]
    }
   ],
   "source": [
    "#!pip install gym  # uncomment if you haven't installed the gym library\n",
    "\n",
    "from frozen_lake import FrozenLakeEnv\n",
    "env = FrozenLakeEnv()\n",
    "env.seed(0);\n",
    "print(env.__doc__)\n",
    "\n",
    "import numpy as np, numpy.random as nr, gym\n",
    "np.set_printoptions(precision=3)\n",
    "def begin_grading(): print(\"\\x1b[43m\")\n",
    "def end_grading(): print(\"\\x1b[0m\")"
   ]
  },
  {
   "cell_type": "markdown",
   "metadata": {},
   "source": [
    "We extract the relevant information from the gym Env into the MDP class below.\n",
    "The `env` object won't be used any further, we'll just use the `mdp` object."
   ]
  },
  {
   "cell_type": "code",
   "execution_count": 2,
   "metadata": {
    "ExecuteTime": {
     "end_time": "2021-09-28T14:05:05.916588Z",
     "start_time": "2021-09-28T14:05:05.909988Z"
    },
    "scrolled": true
   },
   "outputs": [
    {
     "name": "stdout",
     "output_type": "stream",
     "text": [
      "mdp.P is a two-level dict where the first key is the state and the second key is the action.\n",
      "The 2D grid cells are associated with indices [0, 1, 2, ..., 15] from left to right and top to down, as in\n",
      "[[ 0  1  2  3]\n",
      " [ 4  5  6  7]\n",
      " [ 8  9 10 11]\n",
      " [12 13 14 15]]\n",
      "mdp.P[state][action] is a list of tuples (probability, nextstate, reward).\n",
      "\n",
      "For example, state 0 is the initial state, and the transition information for s=0, a=0 is \n",
      "P[0][0] = [(0.1, 0, 0.0), (0.8, 0, 0.0), (0.1, 4, 0.0)] \n",
      "\n",
      "As another example, state 5 corresponds to a hole in the ice, which transitions to itself with probability 1 and reward 0.\n",
      "P[5][0] = [(1.0, 5, 0)] \n",
      "\n"
     ]
    }
   ],
   "source": [
    "class MDP(object):\n",
    "    def __init__(self, P, nS, nA, desc=None):\n",
    "        self.P = P # state transition and reward probabilities, explained below\n",
    "        self.nS = nS # number of states\n",
    "        self.nA = nA # number of actions\n",
    "        self.desc = desc # 2D array specifying what each grid cell means (used for plotting)\n",
    "mdp = MDP( {s : {a : [tup[:3] for tup in tups] for (a, tups) in a2d.items()} for (s, a2d) in env.P.items()}, env.nS, env.nA, env.desc)\n",
    "\n",
    "\n",
    "print(\"mdp.P is a two-level dict where the first key is the state and the second key is the action.\")\n",
    "print(\"The 2D grid cells are associated with indices [0, 1, 2, ..., 15] from left to right and top to down, as in\")\n",
    "print(np.arange(16).reshape(4,4))\n",
    "print(\"mdp.P[state][action] is a list of tuples (probability, nextstate, reward).\\n\")\n",
    "print(\"For example, state 0 is the initial state, and the transition information for s=0, a=0 is \\nP[0][0] =\", mdp.P[0][0], \"\\n\")\n",
    "print(\"As another example, state 5 corresponds to a hole in the ice, which transitions to itself with probability 1 and reward 0.\")\n",
    "print(\"P[5][0] =\", mdp.P[5][0], '\\n')"
   ]
  },
  {
   "cell_type": "markdown",
   "metadata": {
    "nbgrader": {
     "grade": false,
     "grade_id": "4",
     "locked": false,
     "solution": false
    }
   },
   "source": [
    "<br/><br/><br/>\n",
    "<hr style=\"border: 5px solid #990000;\" />\n",
    "<hr style=\"border: 1px solid #dbbcac;\" />\n",
    "\n",
    "\n",
    "## Part 1: Value Iteration"
   ]
  },
  {
   "cell_type": "markdown",
   "metadata": {
    "nbgrader": {
     "grade": false,
     "locked": false,
     "solution": false
    }
   },
   "source": [
    "## Question 1: implement value iteration\n",
    "In this problem, you'll implement value iteration, which has the following pseudocode:\n",
    "\n",
    "---\n",
    "Initialize $V^{(0)}(s)=0$, for all s\n",
    "\n",
    "For $i=0, 1, 2, \\dots$\n",
    "- $V^{(i+1)}(s) = \\max_a \\sum_{s'} P(s,a,s') [ R(s,a,s') + \\gamma V^{(i)}(s')]$, for all s\n",
    "\n",
    "---\n",
    "\n",
    "We additionally define the sequence of greedy policies $\\pi^{(0)}, \\pi^{(1)}, \\dots, \\pi^{(n-1)}$, where\n",
    "$$\\pi^{(i)}(s) = \\arg \\max_a \\sum_{s'} P(s,a,s') [ R(s,a,s') + \\gamma V^{(i)}(s')]$$\n",
    "\n",
    "Your code will return two lists: $[V^{(0)}, V^{(1)}, \\dots, V^{(n)}]$ and $[\\pi^{(0)}, \\pi^{(1)}, \\dots, \\pi^{(n-1)}]$\n",
    "\n",
    "To ensure that you get the same policies as the reference solution, choose the lower-index action to break ties in $\\arg \\max_a$. This is done automatically by np.argmax. This will only affect the \"# chg actions\" printout below--it won't affect the values computed.\n",
    "\n",
    "<div class=\"alert alert-warning\">\n",
    "Warning: make a copy of your value function each iteration and use that copy for the update--don't update your value function in place. \n",
    "Updating in-place is also a valid algorithm, sometimes called Gauss-Seidel value iteration or asynchronous value iteration, but it will cause you to get different results than me.\n",
    "</div>"
   ]
  },
  {
   "cell_type": "code",
   "execution_count": 3,
   "metadata": {
    "ExecuteTime": {
     "end_time": "2021-09-28T14:05:09.200329Z",
     "start_time": "2021-09-28T14:05:09.170662Z"
    },
    "nbgrader": {
     "grade": false,
     "grade_id": "vstar_backup",
     "locked": false,
     "solution": true
    },
    "scrolled": false
   },
   "outputs": [
    {
     "name": "stdout",
     "output_type": "stream",
     "text": [
      "\u001b[43m\n",
      "Iteration | max|V-Vprev| | # chg actions | V[0]\n",
      "----------+--------------+---------------+---------\n",
      "   0      | 0.80000      |  N/A          | 0.000\n",
      "   1      | 0.60800      |    2          | 0.000\n",
      "   2      | 0.51984      |    2          | 0.000\n",
      "   3      | 0.39508      |    2          | 0.000\n",
      "   4      | 0.30026      |    2          | 0.000\n",
      "   5      | 0.25355      |    1          | 0.254\n",
      "   6      | 0.10478      |    0          | 0.345\n",
      "   7      | 0.09657      |    0          | 0.442\n",
      "   8      | 0.03656      |    0          | 0.478\n",
      "   9      | 0.02772      |    0          | 0.506\n",
      "  10      | 0.01111      |    0          | 0.517\n",
      "  11      | 0.00735      |    0          | 0.524\n",
      "  12      | 0.00310      |    0          | 0.527\n",
      "  13      | 0.00190      |    0          | 0.529\n",
      "  14      | 0.00083      |    0          | 0.530\n",
      "  15      | 0.00049      |    0          | 0.531\n",
      "  16      | 0.00022      |    0          | 0.531\n",
      "  17      | 0.00013      |    0          | 0.531\n",
      "  18      | 0.00006      |    0          | 0.531\n",
      "  19      | 0.00003      |    0          | 0.531\n",
      "\u001b[0m\n"
     ]
    }
   ],
   "source": [
    "def value_iteration(mdp, gamma, nIt):\n",
    "    \"\"\"\n",
    "    Inputs:\n",
    "        mdp: MDP\n",
    "        gamma: discount factor\n",
    "        nIt: number of iterations, corresponding to n above\n",
    "    Outputs:\n",
    "        (value_functions, policies)\n",
    "        \n",
    "    len(value_functions) == nIt+1 and len(policies) == n\n",
    "    \"\"\"\n",
    "    print(\"Iteration | max|V-Vprev| | # chg actions | V[0]\")\n",
    "    print(\"----------+--------------+---------------+---------\")\n",
    "    Vs = [np.zeros(mdp.nS)] # list of value functions contains the initial value function, which is zero\n",
    "    pis = []\n",
    "    for it in range(nIt):\n",
    "        Vprev = Vs[-1]\n",
    "        oldpi = pis[-1] if len(pis) > 0 else None\n",
    "\n",
    "        V = np.zeros(mdp.nS)  # Initialize V\n",
    "        pi = np.zeros(mdp.nS)  # update states & policy\n",
    "        \n",
    "        # BEGIN YOUR CODE\n",
    "        # -----------------------\n",
    "        for state in range(mdp.nS):\n",
    "            s_action=[]\n",
    "            for a in range(mdp.nA):\n",
    "                q=[]\n",
    "                for next_state in range(len(mdp.P[state][a])): \n",
    "                    q.append((mdp.P[state][a][next_state][0]*(mdp.P[state][a][next_state][2]+gamma*Vprev[int(mdp.P[state][a][next_state][1])])))      \n",
    "                s_action.append(sum(q))\n",
    "            \n",
    "            V[state]=(max(s_action))  # Value\n",
    "            \n",
    "            pi[state]=np.argmax(s_action)  # Policy\n",
    "        # -----------------------\n",
    "        # END YOUR CODE\n",
    "        \n",
    "        # Your code should define variables V: the bellman backup applied to Vprev\n",
    "        # and pi: the greedy policy applied to Vprev\n",
    "        max_diff = np.abs(V - Vprev).max()\n",
    "        nChgActions=\"N/A\" if oldpi is None else (pi != oldpi).sum()\n",
    "        print(\"%4i      | %6.5f      | %4s          | %5.3f\"%(it, max_diff, nChgActions, V[0]))\n",
    "        Vs.append(V)\n",
    "        pis.append(pi)\n",
    "    return Vs, pis\n",
    "\n",
    "GAMMA=0.95 # we'll be using this same value in subsequent problems\n",
    "begin_grading()\n",
    "Vs_VI, pis_VI = value_iteration(mdp, gamma=GAMMA, nIt=20)\n",
    "end_grading()"
   ]
  },
  {
   "cell_type": "markdown",
   "metadata": {},
   "source": [
    "Below, we've illustrated the progress of value iteration. Your optimal actions are shown by arrows.\n",
    "At the bottom, the value of the different states are plotted."
   ]
  },
  {
   "cell_type": "code",
   "execution_count": 4,
   "metadata": {
    "ExecuteTime": {
     "end_time": "2021-09-28T14:05:12.826744Z",
     "start_time": "2021-09-28T14:05:11.447099Z"
    },
    "scrolled": false
   },
   "outputs": [
    {
     "data": {
      "image/png": "[encoded data removed]",
      "text/plain": [
       "<Figure size 216x216 with 1 Axes>"
      ]
     },
     "metadata": {
      "needs_background": "light"
     },
     "output_type": "display_data"
    },
    {
     "data": {
      "image/png": "[encoded data removed]",
      "text/plain": [
       "<Figure size 216x216 with 1 Axes>"
      ]
     },
     "metadata": {
      "needs_background": "light"
     },
     "output_type": "display_data"
    },
    {
     "data": {
      "image/png": "[encoded data removed]",
      "text/plain": [
       "<Figure size 216x216 with 1 Axes>"
      ]
     },
     "metadata": {
      "needs_background": "light"
     },
     "output_type": "display_data"
    },
    {
     "data": {
      "image/png": "[encoded data removed]",
      "text/plain": [
       "<Figure size 216x216 with 1 Axes>"
      ]
     },
     "metadata": {
      "needs_background": "light"
     },
     "output_type": "display_data"
    },
    {
     "data": {
      "image/png": "[encoded data removed]",
      "text/plain": [
       "<Figure size 216x216 with 1 Axes>"
      ]
     },
     "metadata": {
      "needs_background": "light"
     },
     "output_type": "display_data"
    },
    {
     "data": {
      "image/png": "[encoded data removed]",
      "text/plain": [
       "<Figure size 216x216 with 1 Axes>"
      ]
     },
     "metadata": {
      "needs_background": "light"
     },
     "output_type": "display_data"
    },
    {
     "data": {
      "image/png": "[encoded data removed]",
      "text/plain": [
       "<Figure size 216x216 with 1 Axes>"
      ]
     },
     "metadata": {
      "needs_background": "light"
     },
     "output_type": "display_data"
    },
    {
     "data": {
      "image/png": "[encoded data removed]",
      "text/plain": [
       "<Figure size 216x216 with 1 Axes>"
      ]
     },
     "metadata": {
      "needs_background": "light"
     },
     "output_type": "display_data"
    },
    {
     "data": {
      "image/png": "[encoded data removed]",
      "text/plain": [
       "<Figure size 216x216 with 1 Axes>"
      ]
     },
     "metadata": {
      "needs_background": "light"
     },
     "output_type": "display_data"
    },
    {
     "data": {
      "image/png": "[encoded data removed]",
      "text/plain": [
       "<Figure size 216x216 with 1 Axes>"
      ]
     },
     "metadata": {
      "needs_background": "light"
     },
     "output_type": "display_data"
    },
    {
     "data": {
      "image/png": "[encoded data removed]",
      "text/plain": [
       "<Figure size 432x288 with 1 Axes>"
      ]
     },
     "metadata": {
      "needs_background": "light"
     },
     "output_type": "display_data"
    }
   ],
   "source": [
    "import matplotlib.pyplot as plt\n",
    "%matplotlib inline\n",
    "for (V, pi) in zip(Vs_VI[:10], pis_VI[:10]):\n",
    "    plt.figure(figsize=(3,3))\n",
    "    plt.imshow(V.reshape(4,4), cmap='gray', interpolation='none', clim=(0,1))\n",
    "    ax = plt.gca()\n",
    "    ax.set_xticks(np.arange(4)-.5)\n",
    "    ax.set_yticks(np.arange(4)-.5)\n",
    "    ax.set_xticklabels([])\n",
    "    ax.set_yticklabels([])\n",
    "    Y, X = np.mgrid[0:4, 0:4]\n",
    "    a2uv = {0: (-1, 0), 1:(0, -1), 2:(1,0), 3:(-1, 0)}\n",
    "    Pi = pi.reshape(4,4)\n",
    "    for y in range(4):\n",
    "        for x in range(4):\n",
    "            a = Pi[y, x]\n",
    "            u, v = a2uv[a]\n",
    "            plt.arrow(x, y,u*.3, -v*.3, color='m', head_width=0.1, head_length=0.1) \n",
    "            plt.text(x, y, str(env.desc[y,x].item().decode()),\n",
    "                     color='g', size=12,  verticalalignment='center',\n",
    "                     horizontalalignment='center', fontweight='bold')\n",
    "    plt.grid(color='b', lw=2, ls='-')\n",
    "plt.figure()\n",
    "plt.plot(Vs_VI)\n",
    "plt.title(\"Values of different states\");"
   ]
  },
  {
   "cell_type": "markdown",
   "metadata": {},
   "source": [
    "<br/><br/><br/>\n",
    "<hr style=\"border: 5px solid #990000;\" />\n",
    "<hr style=\"border: 1px solid #dbbcac;\" />\n",
    "\n",
    "\n",
    "## Question 2: construct an MDP where value iteration takes a long time to converge\n",
    "\n",
    "When we ran value iteration on the frozen lake problem, the last iteration where an action changed was iteration 6--i.e., value iteration computed the optimal policy at iteration 6.\n",
    "Are there any guarantees regarding how many iterations it'll take value iteration to compute the optimal policy?\n",
    "There are no such guarantees without additional assumptions--we can construct the MDP in such a way that the greedy policy will change after arbitrarily many iterations.\n",
    "\n",
    "Your task: define an MDP with at most 3 states and 2 actions, such that when you run value iteration, the optimal action changes at iteration >= 50. Use discount=0.95. (However, note that the discount doesn't matter here--you can construct an appropriate MDP with any discount.)"
   ]
  },
  {
   "cell_type": "code",
   "execution_count": 5,
   "metadata": {
    "ExecuteTime": {
     "end_time": "2021-09-28T14:05:22.591969Z",
     "start_time": "2021-09-28T14:05:22.560333Z"
    },
    "scrolled": false
   },
   "outputs": [
    {
     "name": "stdout",
     "output_type": "stream",
     "text": [
      "\u001b[43m\n",
      "Iteration | max|V-Vprev| | # chg actions | V[0]\n",
      "----------+--------------+---------------+---------\n",
      "   0      | 1.00000      |  N/A          | 1.000\n",
      "   1      | 0.95000      |    0          | 1.000\n",
      "   2      | 0.90250      |    0          | 1.000\n",
      "   3      | 0.85737      |    0          | 1.000\n",
      "   4      | 0.81451      |    0          | 1.000\n",
      "   5      | 0.77378      |    0          | 1.000\n",
      "   6      | 0.73509      |    0          | 1.000\n",
      "   7      | 0.69834      |    0          | 1.000\n",
      "   8      | 0.66342      |    0          | 1.000\n",
      "   9      | 0.63025      |    0          | 1.000\n",
      "  10      | 0.59874      |    0          | 1.000\n",
      "  11      | 0.56880      |    0          | 1.000\n",
      "  12      | 0.54036      |    0          | 1.000\n",
      "  13      | 0.51334      |    0          | 1.000\n",
      "  14      | 0.48767      |    0          | 1.000\n",
      "  15      | 0.46329      |    0          | 1.000\n",
      "  16      | 0.44013      |    0          | 1.000\n",
      "  17      | 0.41812      |    0          | 1.000\n",
      "  18      | 0.39721      |    0          | 1.000\n",
      "  19      | 0.37735      |    0          | 1.000\n",
      "  20      | 0.35849      |    0          | 1.000\n",
      "  21      | 0.34056      |    0          | 1.000\n",
      "  22      | 0.32353      |    0          | 1.000\n",
      "  23      | 0.30736      |    0          | 1.000\n",
      "  24      | 0.29199      |    0          | 1.000\n",
      "  25      | 0.27739      |    0          | 1.000\n",
      "  26      | 0.26352      |    0          | 1.000\n",
      "  27      | 0.25034      |    0          | 1.000\n",
      "  28      | 0.23783      |    0          | 1.000\n",
      "  29      | 0.22594      |    0          | 1.000\n",
      "  30      | 0.21464      |    0          | 1.000\n",
      "  31      | 0.20391      |    0          | 1.000\n",
      "  32      | 0.19371      |    0          | 1.000\n",
      "  33      | 0.18403      |    0          | 1.000\n",
      "  34      | 0.17482      |    0          | 1.000\n",
      "  35      | 0.16608      |    0          | 1.000\n",
      "  36      | 0.15778      |    0          | 1.000\n",
      "  37      | 0.14989      |    0          | 1.000\n",
      "  38      | 0.14240      |    0          | 1.000\n",
      "  39      | 0.13528      |    0          | 1.000\n",
      "  40      | 0.12851      |    0          | 1.000\n",
      "  41      | 0.12209      |    0          | 1.000\n",
      "  42      | 0.11598      |    0          | 1.000\n",
      "  43      | 0.11018      |    0          | 1.000\n",
      "  44      | 0.10467      |    0          | 1.000\n",
      "  45      | 0.09944      |    0          | 1.000\n",
      "  46      | 0.09447      |    0          | 1.000\n",
      "  47      | 0.08974      |    0          | 1.000\n",
      "  48      | 0.08526      |    0          | 1.000\n",
      "  49      | 0.08099      |    0          | 1.000\n",
      "  50      | 0.07694      |    1          | 1.000\n",
      "\u001b[0m\n"
     ]
    }
   ],
   "source": [
    "chg_iter = 50\n",
    "\n",
    "# BEGIN YOUR CODE\n",
    "# -----------------------\n",
    "nS = 3\n",
    "nA = 2\n",
    "\n",
    "P = {}\n",
    "P[0] = {}  # State 0\n",
    "P[0][0] = []\n",
    "P[0][0].append((1,1,1))\n",
    "P[0][1] = []\n",
    "P[0][1].append((1,0,0))\n",
    "\n",
    "P[1] = {}  # State 1\n",
    "P[1][0] = []\n",
    "P[1][0].append((1,1,0))\n",
    "P[1][1] = []\n",
    "P[1][1].append((1,2,-17.5))#This reward affect the optimal action. So when we set the reward under -17.5, optimal action will change after many iterations.\n",
    "\n",
    "P[2] = {}  # State 2\n",
    "P[2][0] = []\n",
    "P[2][0].append((1,2,1))\n",
    "P[2][1] = []\n",
    "P[2][1].append((1,0,0))\n",
    "# -----------------------\n",
    "# END YOUR CODE\n",
    "\n",
    "mymdp = MDP(P, nS, nA)\n",
    "\n",
    "begin_grading()\n",
    "Vs, pis = value_iteration(mymdp, gamma=GAMMA, nIt=chg_iter+1)\n",
    "end_grading()"
   ]
  },
  {
   "cell_type": "markdown",
   "metadata": {},
   "source": [
    "<br/><br/><br/>\n",
    "<hr style=\"border: 5px solid #990000;\" />\n",
    "<hr style=\"border: 1px solid #dbbcac;\" />\n",
    "\n",
    "\n",
    "## Question 3: Policy Iteration\n",
    "\n",
    "The next task is to implement exact policy iteration (PI), which has the following pseudocode:\n",
    "\n",
    "---\n",
    "Initialize $\\pi_0$\n",
    "\n",
    "For $n=0, 1, 2, \\dots$\n",
    "1. Compute the state-value function $V^{\\pi_{n}}$.\n",
    "1. Compute the state-action-value function $Q^{\\pi_{n}}$ using the state-value function.\n",
    "1. Compute new policy $\\pi_{n+1}(s) = \\operatorname*{argmax}_a Q^{\\pi_{n}}(s,a)$.\n",
    "---\n",
    "\n",
    "Below, you'll implement the first and second steps of the loop.\n",
    "\n",
    "### Question 3a: state value function\n",
    "\n",
    "You'll write a function called `compute_vpi` that computes the state-value function $V^{\\pi}$ for an arbitrary policy $\\pi$.\n",
    "Recall that $V^{\\pi}$ satisfies the following linear equation:\n",
    "$$V^{\\pi}(s) = \\sum_{s'} P(s,\\pi(s),s')[ R(s,\\pi(s),s') + \\gamma V^{\\pi}(s')]$$\n",
    "You'll have to solve a linear system in your code."
   ]
  },
  {
   "cell_type": "code",
   "execution_count": 6,
   "metadata": {
    "ExecuteTime": {
     "end_time": "2021-09-28T14:05:28.871918Z",
     "start_time": "2021-09-28T14:05:28.861575Z"
    }
   },
   "outputs": [],
   "source": [
    "def compute_vpi(pi, mdp, gamma):\n",
    "    V = np.zeros(mdp.nS)\n",
    "    \n",
    "    # BEGIN YOUR CODE\n",
    "    # -----------------------\n",
    "    s_action=[]\n",
    "    Vs = [np.zeros(mdp.nS)]\n",
    "    V_prev=Vs[-1]\n",
    "    \n",
    "    for state in range(mdp.nS):\n",
    "        \n",
    "        q=[]\n",
    "        for next_state in range(len(mdp.P[state][pi[state]])): \n",
    "            q.append((mdp.P[state][pi[state]][next_state][0]*(mdp.P[state][pi[state]][next_state][2]+gamma*V_prev[int(mdp.P[state][pi[state]][next_state][1])])))      \n",
    "\n",
    "        s_action.append(sum(q))\n",
    "        V[state]=s_action[state]   \n",
    "        Vs.append(V) \n",
    "    #first iteration(To make V_prev!=V) \n",
    "    \n",
    "    while any(V_prev!=V):\n",
    "        V=np.zeros(mdp.nS)\n",
    "        V_prev=Vs[-1]\n",
    "        s_action=[]\n",
    "        for state in range(mdp.nS):\n",
    "            q=[]\n",
    "            for next_state in range(len(mdp.P[state][pi[state]])): \n",
    "                q.append((mdp.P[state][pi[state]][next_state][0]*(mdp.P[state][pi[state]][next_state][2]+gamma*V_prev[int(mdp.P[state][pi[state]][next_state][1])])))      \n",
    "            s_action.append(sum(q))\n",
    "            V[state]=s_action[state]\n",
    "\n",
    "        Vs.append(V)\n",
    "\n",
    "    # -----------------------\n",
    "    # END YOUR CODE\n",
    "            \n",
    "    return V"
   ]
  },
  {
   "cell_type": "markdown",
   "metadata": {},
   "source": [
    "Now let's compute the value of an arbitrarily-chosen policy. \n"
   ]
  },
  {
   "cell_type": "code",
   "execution_count": 7,
   "metadata": {
    "ExecuteTime": {
     "end_time": "2021-09-28T14:05:32.603857Z",
     "start_time": "2021-09-28T14:05:32.584838Z"
    }
   },
   "outputs": [
    {
     "name": "stdout",
     "output_type": "stream",
     "text": [
      "\u001b[43m\n",
      "[0.016 0.024 0.232 0.024 0.017 0.    0.299 0.    0.02  0.188 0.393 0.\n",
      " 0.    0.196 0.494 0.   ]\n",
      "\u001b[0m\n"
     ]
    }
   ],
   "source": [
    "begin_grading()\n",
    "print(compute_vpi(np.ones(16), mdp, gamma=GAMMA))\n",
    "end_grading()"
   ]
  },
  {
   "cell_type": "markdown",
   "metadata": {},
   "source": [
    "As a sanity check, if we run `compute_vpi` on the solution from our previous value iteration run, we should get approximately (but not exactly) the same values produced by value iteration."
   ]
  },
  {
   "cell_type": "code",
   "execution_count": 8,
   "metadata": {
    "ExecuteTime": {
     "end_time": "2021-09-28T14:05:34.128203Z",
     "start_time": "2021-09-28T14:05:34.113300Z"
    }
   },
   "outputs": [
    {
     "name": "stdout",
     "output_type": "stream",
     "text": [
      "From compute_vpi [0.531 0.471 0.56  0.471 0.574 0.    0.62  0.    0.683 0.827 0.815 0.\n",
      " 0.    0.901 0.97  0.   ]\n",
      "From value iteration [0.53  0.47  0.56  0.47  0.573 0.    0.62  0.    0.683 0.827 0.815 0.\n",
      " 0.    0.901 0.97  0.   ]\n",
      "Difference [9.580e-04 3.839e-04 2.254e-04 3.839e-04 4.495e-04 0.000e+00 4.522e-05\n",
      " 0.000e+00 2.612e-04 1.071e-04 3.272e-05 0.000e+00 0.000e+00 3.977e-05\n",
      " 7.051e-06 0.000e+00]\n"
     ]
    }
   ],
   "source": [
    "Vpi=compute_vpi(pis_VI[15], mdp, gamma=GAMMA)\n",
    "V_vi = Vs_VI[15]\n",
    "print(\"From compute_vpi\", Vpi)\n",
    "print(\"From value iteration\", V_vi)\n",
    "print(\"Difference\", Vpi - V_vi)"
   ]
  },
  {
   "cell_type": "markdown",
   "metadata": {},
   "source": [
    "### Question 3b: state-action value function\n",
    "\n",
    "Next, you'll write a function to compute the state-action value function $Q^{\\pi}$, defined as follows\n",
    "\n",
    "$$Q^{\\pi}(s, a) = \\sum_{s'} P(s,a,s')[ R(s,a,s') + \\gamma V^{\\pi}(s')]$$\n"
   ]
  },
  {
   "cell_type": "code",
   "execution_count": 9,
   "metadata": {
    "ExecuteTime": {
     "end_time": "2021-09-28T14:05:37.079210Z",
     "start_time": "2021-09-28T14:05:37.065145Z"
    },
    "nbgrader": {
     "grade": false,
     "grade_id": "compute_qpi",
     "locked": false,
     "solution": true
    }
   },
   "outputs": [
    {
     "name": "stdout",
     "output_type": "stream",
     "text": [
      "\u001b[43m\n",
      "\u001b[0m\n",
      "Qpi:\n",
      " [[0.509 0.531 0.463 0.499]\n",
      " [0.448 0.104 0.471 0.461]\n",
      " [0.47  0.56  0.47  0.515]\n",
      " [0.471 0.098 0.402 0.456]\n",
      " [0.551 0.574 0.115 0.458]\n",
      " [0.    0.    0.    0.   ]\n",
      " [0.131 0.62  0.131 0.426]\n",
      " [0.    0.    0.    0.   ]\n",
      " [0.574 0.143 0.683 0.579]\n",
      " [0.605 0.827 0.705 0.142]\n",
      " [0.78  0.815 0.151 0.55 ]\n",
      " [0.    0.    0.    0.   ]\n",
      " [0.    0.    0.    0.   ]\n",
      " [0.164 0.777 0.901 0.721]\n",
      " [0.854 0.922 0.97  0.805]\n",
      " [0.    0.    0.    0.   ]]\n"
     ]
    }
   ],
   "source": [
    "def compute_qpi(vpi, pi, mdp,  gamma):\n",
    "    Qpi = np.zeros([mdp.nS,mdp.nA])\n",
    "    \n",
    "    # BEGIN YOUR CODE\n",
    "    # -----------------------\n",
    "    for state in range(mdp.nS):\n",
    "        s_action=[]\n",
    "        for a in range(mdp.nA):\n",
    "            q=[]\n",
    "            for next_state in range(len(mdp.P[state][a])): \n",
    "                q.append((mdp.P[state][a][next_state][0]*(mdp.P[state][a][next_state][2]+gamma*vpi[int(mdp.P[state][a][next_state][1])])))      \n",
    "            s_action.append(sum(q))\n",
    "            Qpi[state,a]=s_action[-1]\n",
    "\n",
    "    # -----------------------\n",
    "    # END YOUR CODE\n",
    "    \n",
    "    return Qpi\n",
    "\n",
    "begin_grading()\n",
    "Qpi = compute_qpi(Vpi, pis_VI[-1], mdp, gamma=0.95)\n",
    "end_grading()\n",
    "print(\"Qpi:\\n\", Qpi)"
   ]
  },
  {
   "cell_type": "markdown",
   "metadata": {},
   "source": [
    "Now we're ready to run policy iteration!"
   ]
  },
  {
   "cell_type": "code",
   "execution_count": 10,
   "metadata": {
    "ExecuteTime": {
     "end_time": "2021-09-28T14:05:40.918564Z",
     "start_time": "2021-09-28T14:05:40.735873Z"
    },
    "nbgrader": {
     "grade": false,
     "locked": false,
     "solution": false
    },
    "scrolled": false
   },
   "outputs": [
    {
     "name": "stdout",
     "output_type": "stream",
     "text": [
      "Iteration | # chg actions | V[0]\n",
      "----------+---------------+---------\n",
      "   0      |      1        | 0.00000\n",
      "   1      |      6        | 0.00000\n",
      "   2      |      3        | 0.00000\n",
      "   3      |      1        | 0.44131\n",
      "   4      |      1        | 0.45546\n",
      "   5      |      0        | 0.53118\n",
      "   6      |      0        | 0.53118\n",
      "   7      |      0        | 0.53118\n",
      "   8      |      0        | 0.53118\n",
      "   9      |      0        | 0.53118\n",
      "  10      |      0        | 0.53118\n",
      "  11      |      0        | 0.53118\n",
      "  12      |      0        | 0.53118\n",
      "  13      |      0        | 0.53118\n",
      "  14      |      0        | 0.53118\n",
      "  15      |      0        | 0.53118\n",
      "  16      |      0        | 0.53118\n",
      "  17      |      0        | 0.53118\n",
      "  18      |      0        | 0.53118\n",
      "  19      |      0        | 0.53118\n"
     ]
    },
    {
     "data": {
      "image/png": "[encoded data removed]",
      "text/plain": [
       "<Figure size 432x288 with 1 Axes>"
      ]
     },
     "metadata": {
      "needs_background": "light"
     },
     "output_type": "display_data"
    }
   ],
   "source": [
    "def policy_iteration(mdp, gamma, nIt):\n",
    "    Vs = []\n",
    "    pis = []\n",
    "    pi_prev = np.zeros(mdp.nS,dtype='int')\n",
    "    pis.append(pi_prev)\n",
    "    print(\"Iteration | # chg actions | V[0]\")\n",
    "    print(\"----------+---------------+---------\")\n",
    "    for it in range(nIt):        \n",
    "        vpi = compute_vpi(pi_prev, mdp, gamma)\n",
    "        qpi = compute_qpi(vpi, pi_prev, mdp, gamma)\n",
    "        pi = qpi.argmax(axis=1)\n",
    "        print(\"%4i      | %6i        | %6.5f\"%(it, (pi != pi_prev).sum(), vpi[0]))\n",
    "        Vs.append(vpi)\n",
    "        pis.append(pi)\n",
    "        pi_prev = pi\n",
    "    return Vs, pis\n",
    "Vs_PI, pis_PI = policy_iteration(mdp, gamma=0.95, nIt=20)\n",
    "plt.plot(Vs_PI);"
   ]
  },
  {
   "cell_type": "markdown",
   "metadata": {},
   "source": [
    "Now we can compare the convergence of value iteration and policy iteration on several states.\n",
    "For fun, you can try adding modified policy iteration."
   ]
  },
  {
   "cell_type": "code",
   "execution_count": 11,
   "metadata": {
    "ExecuteTime": {
     "end_time": "2021-09-28T14:05:47.021215Z",
     "start_time": "2021-09-28T14:05:46.189522Z"
    },
    "scrolled": false
   },
   "outputs": [
    {
     "data": {
      "image/png": "[encoded data removed]",
      "text/plain": [
       "<Figure size 432x288 with 1 Axes>"
      ]
     },
     "metadata": {
      "needs_background": "light"
     },
     "output_type": "display_data"
    },
    {
     "data": {
      "image/png": "[encoded data removed]",
      "text/plain": [
       "<Figure size 432x288 with 1 Axes>"
      ]
     },
     "metadata": {
      "needs_background": "light"
     },
     "output_type": "display_data"
    },
    {
     "data": {
      "image/png": "[encoded data removed]",
      "text/plain": [
       "<Figure size 432x288 with 1 Axes>"
      ]
     },
     "metadata": {
      "needs_background": "light"
     },
     "output_type": "display_data"
    },
    {
     "data": {
      "image/png": "[encoded data removed]",
      "text/plain": [
       "<Figure size 432x288 with 1 Axes>"
      ]
     },
     "metadata": {
      "needs_background": "light"
     },
     "output_type": "display_data"
    },
    {
     "data": {
      "image/png": "[encoded data removed]",
      "text/plain": [
       "<Figure size 432x288 with 1 Axes>"
      ]
     },
     "metadata": {
      "needs_background": "light"
     },
     "output_type": "display_data"
    }
   ],
   "source": [
    "for s in range(5):\n",
    "    plt.figure()\n",
    "    plt.plot(np.array(Vs_VI)[:,s])\n",
    "    plt.plot(np.array(Vs_PI)[:,s])\n",
    "    plt.ylabel(\"value of state %i\"%s)\n",
    "    plt.xlabel(\"iteration\")\n",
    "    plt.legend([\"value iteration\", \"policy iteration\"], loc='best')"
   ]
  },
  {
   "cell_type": "markdown",
   "metadata": {},
   "source": [
    "### Congratulations! You have completed HW1.\n",
    "\n",
    "Make sure you have run all cells in your notebook in order before running the cell below, so that all images/graphs appear in the output.\n",
    "\n",
    "Please generate pdf as follows and submit it to Gradescope.\n",
    "\n",
    "**File > Print Preview > Print > Save as pdf**\n",
    "\n",
    "**Please save before submitting!**"
   ]
  },
  {
   "cell_type": "code",
   "execution_count": null,
   "metadata": {},
   "outputs": [],
   "source": []
  }
 ],
 "metadata": {
  "anaconda-cloud": {},
  "celltoolbar": "Create Assignment",
  "kernelspec": {
   "display_name": "Python 3 (ipykernel)",
   "language": "python",
   "name": "python3"
  },
  "language_info": {
   "codemirror_mode": {
    "name": "ipython",
    "version": 3
   },
   "file_extension": ".py",
   "mimetype": "text/x-python",
   "name": "python",
   "nbconvert_exporter": "python",
   "pygments_lexer": "ipython3",
   "version": "3.8.10"
  },
  "toc": {
   "base_numbering": 1,
   "nav_menu": {},
   "number_sections": false,
   "sideBar": true,
   "skip_h1_title": false,
   "title_cell": "Table of Contents",
   "title_sidebar": "Contents",
   "toc_cell": false,
   "toc_position": {},
   "toc_section_display": true,
   "toc_window_display": false
  }
 },
 "nbformat": 4,
 "nbformat_minor": 1
}
